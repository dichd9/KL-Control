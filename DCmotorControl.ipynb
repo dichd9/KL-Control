{
 "cells": [
  {
   "cell_type": "code",
   "execution_count": 1,
   "metadata": {},
   "outputs": [],
   "source": [
    "import numpy as np\n",
    "import matplotlib.pyplot as plt\n",
    "plt.style.use('dark_background')"
   ]
  },
  {
   "cell_type": "code",
   "execution_count": 13,
   "metadata": {},
   "outputs": [],
   "source": [
    "T=0.1\n",
    "r=0.8\n",
    "a=0.2\n",
    "b=1\n",
    "c=0.1\n",
    "u=1\n",
    "X=[]\n",
    "x=0\n",
    "U=[]\n",
    "Xs=np.linspace(0, 1, 101)\n",
    "Xs=Xs[:-1]\n",
    "Us=np.zeros([100, 100])\n",
    "λ=20\n",
    "γ=0.98"
   ]
  },
  {
   "cell_type": "code",
   "execution_count": 14,
   "metadata": {},
   "outputs": [],
   "source": [
    "for i in range(100):\n",
    "    x=Xs[i]\n",
    "    for j in range(100):\n",
    "        xn=Xs[j]\n",
    "        \n",
    "        dxdt=(xn-x)/T\n",
    "        Us[i, j]=(dxdt+a*x+c)/b"
   ]
  },
  {
   "cell_type": "code",
   "execution_count": 15,
   "metadata": {},
   "outputs": [],
   "source": [
    "P=np.zeros([100, 100])   #Passive dynamics\n",
    "\n",
    "for i in range(100):\n",
    "    s=0\n",
    "    for j in range(100):\n",
    "        u=Us[i, j]\n",
    "        \n",
    "        if abs(u)<=1:\n",
    "            p=1-u**2\n",
    "            s+=p\n",
    "            P[i, j]=p\n",
    "            \n",
    "    P[i, :]=P[i, :]/s"
   ]
  },
  {
   "cell_type": "markdown",
   "metadata": {},
   "source": [
    "P -> Passive dynamics"
   ]
  },
  {
   "cell_type": "code",
   "execution_count": 16,
   "metadata": {},
   "outputs": [],
   "source": [
    "V=np.zeros(100)\n",
    "for i in range(100):\n",
    "    \n",
    "    if V[i]==r:\n",
    "        V[i]=-10"
   ]
  },
  {
   "cell_type": "code",
   "execution_count": 17,
   "metadata": {},
   "outputs": [],
   "source": [
    "class DCmotor(object):\n",
    "    \n",
    "    def __init__(self, Xs, P, V):\n",
    "        \n",
    "        self.Xs=Xs\n",
    "        self.P=P\n",
    "        self.U=np.zeros([100, 100])\n",
    "        self.V=V\n",
    "        self.Z=np.exp(-V)\n",
    "        self.r=0.5\n",
    "        self.Esum=0\n",
    "        self.xindex=0\n",
    "        \n",
    "        \n",
    "    def updateU(self):\n",
    "        \n",
    "        for i in range(100):\n",
    "            \n",
    "            s=0\n",
    "            for j in range(100):\n",
    "                \n",
    "                z=self.Z[j]\n",
    "                p=self.P[i, j]\n",
    "                \n",
    "                self.U[i, j]=p*z\n",
    "                s+=p*z\n",
    "               \n",
    "            \n",
    "            if s==0:\n",
    "                self.U[i, :]=self.P[i, :]\n",
    "            else:\n",
    "                self.U[i, :]=self.U[i, :]/s\n",
    "            \n",
    "    def updateV(self):\n",
    "        \n",
    "        V=np.zeros(100)\n",
    "        for i in range(100):\n",
    "            \n",
    "            s=λ*(self.Xs[i]-self.r)**(2)+0.1*T*self.Esum\n",
    "            \n",
    "            for j in range(100):\n",
    "                   \n",
    "                s+=γ*self.U[i, j]*self.V[j]\n",
    "                \n",
    "                \n",
    "            V[i]=s\n",
    "            \n",
    "        self.V=V\n",
    "        self.Z=np.exp(-V)\n",
    "        \n",
    "    def step(self):\n",
    "        \n",
    "        \n",
    "        self.Esum+=abs(self.r-self.Xs[self.xindex])**2\n",
    "        \n",
    "       \n",
    "        self.updateU()\n",
    "        self.updateV()\n",
    "        \n",
    "        u=self.U[self.xindex, :]\n",
    "        self.xindex=np.argmax(u)\n",
    "        \n",
    "        if abs(self.r-self.Xs[self.xindex])==0:\n",
    "            self.Esum=0\n",
    "\n",
    "        return self.Xs[self.xindex], self.V[self.xindex]"
   ]
  },
  {
   "cell_type": "code",
   "execution_count": 18,
   "metadata": {},
   "outputs": [],
   "source": [
    "A=DCmotor(Xs, P, V)"
   ]
  },
  {
   "cell_type": "code",
   "execution_count": 19,
   "metadata": {},
   "outputs": [],
   "source": [
    "X=[]\n",
    "Vc=[]\n",
    "Xr=[]\n",
    "\n",
    "A.r=0.8\n",
    "\n",
    "\n",
    "for i in range(70):\n",
    "    x, v=A.step()\n",
    "    X.append(x)\n",
    "    Vc.append(v)\n",
    "    Xr.append(A.r)\n",
    "\n",
    "    \n",
    "A.r=0.3\n",
    "\n",
    "\n",
    "for i in range(70):\n",
    "    x, v=A.step()\n",
    "    X.append(x)\n",
    "    Vc.append(v)\n",
    "    Xr.append(A.r)\n",
    "\n",
    "    \n",
    "A.r=0.7\n",
    "\n",
    "\n",
    "for i in range(70):\n",
    "    x, v=A.step()\n",
    "    X.append(x)\n",
    "    Vc.append(v)\n",
    "    Xr.append(A.r)\n",
    "\n",
    "    \n",
    "A.r=0.1\n",
    "\n",
    "\n",
    "for i in range(70):\n",
    "    x, v=A.step()\n",
    "    X.append(x)\n",
    "    Vc.append(v)\n",
    "    Xr.append(A.r)\n",
    "    \n",
    "    \n",
    "A.r=0.5\n",
    "\n",
    "\n",
    "for i in range(70):\n",
    "    x, v=A.step()\n",
    "    X.append(x)\n",
    "    Vc.append(v)\n",
    "    Xr.append(A.r)\n",
    "\n",
    "    \n",
    "A.r=0.2\n",
    "\n",
    "\n",
    "for i in range(70):\n",
    "    x, v=A.step()\n",
    "    X.append(x)\n",
    "    Vc.append(v)\n",
    "    Xr.append(A.r)\n",
    "\n",
    "    \n",
    "A.r=0.75\n",
    "\n",
    "\n",
    "for i in range(70):\n",
    "    x, v=A.step()\n",
    "    X.append(x)\n",
    "    Vc.append(v)\n",
    "    Xr.append(A.r)\n",
    "\n",
    "Ts=np.linspace(0,49, 490)"
   ]
  },
  {
   "cell_type": "code",
   "execution_count": 20,
   "metadata": {},
   "outputs": [
    {
     "data": {
      "image/png": "[encoded data removed]",
      "text/plain": [
       "<Figure size 432x288 with 1 Axes>"
      ]
     },
     "metadata": {},
     "output_type": "display_data"
    }
   ],
   "source": [
    "plt.plot(Ts, X, color='lavender', linewidth=2)\n",
    "plt.plot(Ts, Xr, color='aqua', linewidth=3)\n",
    "plt.xlabel('Time')\n",
    "plt.ylabel('State')\n",
    "plt.grid(False)\n",
    "plt.legend(['Optimal Trabjectory', 'Reference'], loc=4)\n",
    "plt.savefig('λ20_MotorRefTrack.png', transparent=True, dpi=600)\n",
    "plt.show()"
   ]
  },
  {
   "cell_type": "markdown",
   "metadata": {},
   "source": [
    "just explore this idea a bit, that do I need to consider updating V for every state, or I can just do with current state itself"
   ]
  },
  {
   "cell_type": "code",
   "execution_count": 21,
   "metadata": {},
   "outputs": [
    {
     "data": {
      "image/png": "[encoded data removed]",
      "text/plain": [
       "<Figure size 432x288 with 1 Axes>"
      ]
     },
     "metadata": {},
     "output_type": "display_data"
    }
   ],
   "source": [
    "P=A.P[15]+A.P[40]+A.P[70]+A.P[90]\n",
    "U=A.U[15]+A.U[40]+A.U[70]+A.U[90]\n",
    "\n",
    "\n",
    "plt.plot(Xs, P, color='Red')\n",
    "plt.plot(Xs, U, color='magenta')\n",
    "plt.axvline(x=0.75, ymin=0, ymax=3, color='White', linewidth=2.5, markersize=12)\n",
    "plt.axvline(x=0.15, ymin=0, ymax=3, color='blue', linewidth=1.5, markersize=12)\n",
    "plt.axvline(x=0.40, ymin=0, ymax=3, color='blue', linewidth=1.5, markersize=12)\n",
    "plt.axvline(x=0.70, ymin=0, ymax=3, color='blue', linewidth=1.5, markersize=12)\n",
    "plt.axvline(x=0.90, ymin=0, ymax=3, color='blue', linewidth=1.5, markersize=12)\n",
    "plt.xlabel('State')\n",
    "plt.legend(['Passive Dynamics', 'Optimal Control', 'Target', 'Current States'])\n",
    "plt.ylabel('Probability of Transition')\n",
    "plt.grid(False)\n",
    "plt.savefig('λ20_MotorControl_Dynamics.png', transparent=True, dpi=600)\n",
    "plt.show()"
   ]
  },
  {
   "cell_type": "code",
   "execution_count": 22,
   "metadata": {},
   "outputs": [],
   "source": [
    "Ts=np.array(Xs)"
   ]
  },
  {
   "cell_type": "code",
   "execution_count": null,
   "metadata": {},
   "outputs": [],
   "source": []
  }
 ],
 "metadata": {
  "kernelspec": {
   "display_name": "Python 3",
   "language": "python",
   "name": "python3"
  },
  "language_info": {
   "codemirror_mode": {
    "name": "ipython",
    "version": 3
   },
   "file_extension": ".py",
   "mimetype": "text/x-python",
   "name": "python",
   "nbconvert_exporter": "python",
   "pygments_lexer": "ipython3",
   "version": "3.8.5"
  }
 },
 "nbformat": 4,
 "nbformat_minor": 4
}
